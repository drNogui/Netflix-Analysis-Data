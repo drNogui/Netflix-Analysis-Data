{
 "cells": [
  {
   "cell_type": "markdown",
   "id": "9f0d4c58",
   "metadata": {},
   "source": [
    "## Importing libraries"
   ]
  },
  {
   "cell_type": "code",
   "execution_count": 1,
   "id": "f73930a3",
   "metadata": {},
   "outputs": [],
   "source": [
    "import pandas as pd\n",
    "import numpy as np"
   ]
  },
  {
   "cell_type": "markdown",
   "id": "20df21d4",
   "metadata": {},
   "source": [
    "## Reading data"
   ]
  },
  {
   "cell_type": "code",
   "execution_count": 2,
   "id": "1622e400",
   "metadata": {
    "scrolled": true
   },
   "outputs": [
    {
     "data": {
      "text/html": [
       "<div>\n",
       "<style scoped>\n",
       "    .dataframe tbody tr th:only-of-type {\n",
       "        vertical-align: middle;\n",
       "    }\n",
       "\n",
       "    .dataframe tbody tr th {\n",
       "        vertical-align: top;\n",
       "    }\n",
       "\n",
       "    .dataframe thead th {\n",
       "        text-align: right;\n",
       "    }\n",
       "</style>\n",
       "<table border=\"1\" class=\"dataframe\">\n",
       "  <thead>\n",
       "    <tr style=\"text-align: right;\">\n",
       "      <th></th>\n",
       "      <th>first_air_date</th>\n",
       "      <th>origin_country</th>\n",
       "      <th>original_language</th>\n",
       "      <th>name</th>\n",
       "      <th>popularity</th>\n",
       "      <th>vote_average</th>\n",
       "      <th>vote_count</th>\n",
       "      <th>overview</th>\n",
       "    </tr>\n",
       "  </thead>\n",
       "  <tbody>\n",
       "    <tr>\n",
       "      <th>0</th>\n",
       "      <td>2021-09-03</td>\n",
       "      <td>US</td>\n",
       "      <td>en</td>\n",
       "      <td>The D'Amelio Show</td>\n",
       "      <td>30.104</td>\n",
       "      <td>9.0</td>\n",
       "      <td>3071</td>\n",
       "      <td>From relative obscurity and a seemingly normal...</td>\n",
       "    </tr>\n",
       "    <tr>\n",
       "      <th>1</th>\n",
       "      <td>2008-01-20</td>\n",
       "      <td>US</td>\n",
       "      <td>en</td>\n",
       "      <td>Breaking Bad</td>\n",
       "      <td>468.253</td>\n",
       "      <td>8.8</td>\n",
       "      <td>10131</td>\n",
       "      <td>When Walter White, a New Mexico chemistry teac...</td>\n",
       "    </tr>\n",
       "    <tr>\n",
       "      <th>2</th>\n",
       "      <td>2021-11-06</td>\n",
       "      <td>US</td>\n",
       "      <td>en</td>\n",
       "      <td>Arcane</td>\n",
       "      <td>95.667</td>\n",
       "      <td>8.7</td>\n",
       "      <td>2615</td>\n",
       "      <td>Amid the stark discord of twin cities Piltover...</td>\n",
       "    </tr>\n",
       "    <tr>\n",
       "      <th>3</th>\n",
       "      <td>2013-12-02</td>\n",
       "      <td>US</td>\n",
       "      <td>en</td>\n",
       "      <td>Rick and Morty</td>\n",
       "      <td>1511.996</td>\n",
       "      <td>8.7</td>\n",
       "      <td>7220</td>\n",
       "      <td>Rick is a mentally-unbalanced but scientifical...</td>\n",
       "    </tr>\n",
       "    <tr>\n",
       "      <th>4</th>\n",
       "      <td>2022-04-14</td>\n",
       "      <td>US</td>\n",
       "      <td>en</td>\n",
       "      <td>The Kardashians</td>\n",
       "      <td>195.038</td>\n",
       "      <td>8.7</td>\n",
       "      <td>1627</td>\n",
       "      <td>The family you know and love is here with a br...</td>\n",
       "    </tr>\n",
       "  </tbody>\n",
       "</table>\n",
       "</div>"
      ],
      "text/plain": [
       "  first_air_date origin_country original_language               name  \\\n",
       "0     2021-09-03             US                en  The D'Amelio Show   \n",
       "1     2008-01-20             US                en       Breaking Bad   \n",
       "2     2021-11-06             US                en             Arcane   \n",
       "3     2013-12-02             US                en     Rick and Morty   \n",
       "4     2022-04-14             US                en    The Kardashians   \n",
       "\n",
       "   popularity  vote_average  vote_count  \\\n",
       "0      30.104           9.0        3071   \n",
       "1     468.253           8.8       10131   \n",
       "2      95.667           8.7        2615   \n",
       "3    1511.996           8.7        7220   \n",
       "4     195.038           8.7        1627   \n",
       "\n",
       "                                            overview  \n",
       "0  From relative obscurity and a seemingly normal...  \n",
       "1  When Walter White, a New Mexico chemistry teac...  \n",
       "2  Amid the stark discord of twin cities Piltover...  \n",
       "3  Rick is a mentally-unbalanced but scientifical...  \n",
       "4  The family you know and love is here with a br...  "
      ]
     },
     "execution_count": 2,
     "metadata": {},
     "output_type": "execute_result"
    }
   ],
   "source": [
    "data = pd.read_csv('data_TV.csv')\n",
    "data.head()"
   ]
  },
  {
   "cell_type": "code",
   "execution_count": null,
   "id": "1eb91819",
   "metadata": {},
   "outputs": [],
   "source": []
  }
 ],
 "metadata": {
  "kernelspec": {
   "display_name": "Python 3 (ipykernel)",
   "language": "python",
   "name": "python3"
  },
  "language_info": {
   "codemirror_mode": {
    "name": "ipython",
    "version": 3
   },
   "file_extension": ".py",
   "mimetype": "text/x-python",
   "name": "python",
   "nbconvert_exporter": "python",
   "pygments_lexer": "ipython3",
   "version": "3.9.12"
  }
 },
 "nbformat": 4,
 "nbformat_minor": 5
}
